{
 "cells": [
  {
   "attachments": {},
   "cell_type": "markdown",
   "metadata": {},
   "source": [
    "Illustration 1"
   ]
  },
  {
   "cell_type": "code",
   "execution_count": null,
   "metadata": {},
   "outputs": [],
   "source": [
    "install.packages(\"image.darknet\", repos = \"https://bnosac.github.io/drat\")"
   ]
  },
  {
   "cell_type": "code",
   "execution_count": null,
   "metadata": {},
   "outputs": [],
   "source": [
    "library(image.darknet)"
   ]
  },
  {
   "cell_type": "code",
   "execution_count": null,
   "metadata": {},
   "outputs": [],
   "source": [
    "darknet model<-image_darknet_model(type = \"classify\",\n",
    "model = \"tiny.cfg\", weights=system.file(package = \"image.darknet\", \"models\", \"tiny.weights\"), \n",
    "labels= system.file(package \"image.darknet\", \"include\", \"darknet\", \"data\", \"imagenet.shortnames.list\"))"
   ]
  },
  {
   "cell_type": "code",
   "execution_count": null,
   "metadata": {},
   "outputs": [],
   "source": [
    "image_darknet_classify(file = \"/content/dowmload.jpg\" , object = image_darknet_model)"
   ]
  },
  {
   "cell_type": "code",
   "execution_count": null,
   "metadata": {},
   "outputs": [],
   "source": [
    "darknet_model <- image_darknet_model(type = \"detect\",model =\"tiny-yolo-voc.cfg\", weights = system.file(package = \"image.darknet\", \"models\", \"tiny-yolo-voc.cfg\"), labels = system.file (package = \"image.darknet\", \"include\", \"darknet\", \"data\", \"voc.names\"))"
   ]
  },
  {
   "cell_type": "code",
   "execution_count": null,
   "metadata": {},
   "outputs": [],
   "source": [
    "image_darknet_detect (file = \"/content/download.jpg\", object = darknet_model)"
   ]
  },
  {
   "attachments": {},
   "cell_type": "markdown",
   "metadata": {},
   "source": [
    "Illustration 2"
   ]
  },
  {
   "cell_type": "code",
   "execution_count": null,
   "metadata": {},
   "outputs": [],
   "source": [
    "install.packages(\"image.darknet\", repos = \"https://bnosac.github.io/drat\")"
   ]
  },
  {
   "cell_type": "code",
   "execution_count": null,
   "metadata": {},
   "outputs": [],
   "source": [
    "library(image.darknet)"
   ]
  },
  {
   "cell_type": "code",
   "execution_count": null,
   "metadata": {},
   "outputs": [],
   "source": [
    "darknet_model <- image_darknet_mode(type = \"classify\", model = \"tiny.cfg\",\n",
    "\n",
    "weights = system.file(package = \"image.darknet\", \"models\", \"tiny.weights\"),\n",
    "\n",
    "labels = system.file(package = \"image.darknet\", \"include\", \"darknet\", \"data\", \"imagenet.shortnames.list\"))"
   ]
  },
  {
   "cell_type": "code",
   "execution_count": null,
   "metadata": {},
   "outputs": [],
   "source": [
    "image_darknet_classify(file=\"/content/maxresdefault.jpg\", object = darknet_model)"
   ]
  },
  {
   "cell_type": "code",
   "execution_count": null,
   "metadata": {},
   "outputs": [],
   "source": [
    "darknet model<-image_darknet_model(type = \"detect\", model=\"tiny-yalo-voc.cfg\", weights = system.file(package=\"image.darknet\", \"models\", \"tiny-yolo-voc weights\"), labels = system.file(package=\"image.darknet\", \"include\", \"darknet\", \"data\", \"voc.nanes\"))"
   ]
  },
  {
   "cell_type": "code",
   "execution_count": null,
   "metadata": {},
   "outputs": [],
   "source": [
    "image darknet detect(file= \"/content/maxresdefault.jpg\", object darknet model)"
   ]
  },
  {
   "attachments": {},
   "cell_type": "markdown",
   "metadata": {},
   "source": [
    "Illustration 3"
   ]
  },
  {
   "cell_type": "code",
   "execution_count": null,
   "metadata": {},
   "outputs": [],
   "source": [
    "image_darknet_classify(file=\"/content/cat-dog-26409253.jpg\", object = darknet_model)"
   ]
  }
 ],
 "metadata": {
  "language_info": {
   "name": "python"
  },
  "orig_nbformat": 4
 },
 "nbformat": 4,
 "nbformat_minor": 2
}
